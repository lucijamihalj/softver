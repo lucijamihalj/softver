{
 "cells": [
  {
   "cell_type": "markdown",
   "metadata": {},
   "source": [
    "# SYMPY\n"
   ]
  },
  {
   "cell_type": "markdown",
   "metadata": {},
   "source": [
    "def evaluiraj(izrazi, x, x0):\n",
    "\"\"\"\n",
    "Za svaki izraz iz izrazi funkcija ispisuje vrijednost izraza za x = x0\n",
    "\"\"\""
   ]
  },
  {
   "cell_type": "code",
   "execution_count": 1,
   "metadata": {},
   "outputs": [],
   "source": [
    "def evaluiraj(izrazi, x, x0):\n",
    "    for izraz in izrazi:\n",
    "        print(izraz.n(10,subs={x:x0}))"
   ]
  },
  {
   "cell_type": "code",
   "execution_count": 2,
   "metadata": {},
   "outputs": [],
   "source": [
    "import sympy as sp\n",
    "sp.init_printing()\n",
    "x = sp.Symbol('x')\n",
    "izraz1 = x+3\n",
    "izraz2 = x-3\n",
    "lista = [izraz1, izraz2]"
   ]
  },
  {
   "cell_type": "code",
   "execution_count": 3,
   "metadata": {},
   "outputs": [
    {
     "name": "stdout",
     "output_type": "stream",
     "text": [
      "3.000000000\n",
      "-3.000000000\n"
     ]
    }
   ],
   "source": [
    "evaluiraj(lista, x, 0)"
   ]
  },
  {
   "cell_type": "code",
   "execution_count": 4,
   "metadata": {},
   "outputs": [
    {
     "data": {
      "image/png": "[encoded data removed]",
      "text/latex": [
       "$$\\frac{d}{d x}\\left(e^{x} \\sin{\\left (x \\right )}\\right)$$"
      ],
      "text/plain": [
       "d ⎛ x       ⎞\n",
       "──⎝ℯ ⋅sin(x)⎠\n",
       "dx           "
      ]
     },
     "execution_count": 4,
     "metadata": {},
     "output_type": "execute_result"
    }
   ],
   "source": [
    "a = sp.Derivative(sp.sin(x)*sp.E**x,x)\n",
    "a\n",
    "#rj = a.doit()\n",
    "#rj"
   ]
  },
  {
   "cell_type": "code",
   "execution_count": 5,
   "metadata": {},
   "outputs": [
    {
     "data": {
      "image/png": "[encoded data removed]",
      "text/latex": [
       "$$\\left(- x y \\sin{\\left (x y \\right )} + x \\cos{\\left (x y \\right )} + \\cos{\\left (x y \\right )}\\right) e^{x}$$"
      ],
      "text/plain": [
       "                                         x\n",
       "(-x⋅y⋅sin(x⋅y) + x⋅cos(x⋅y) + cos(x⋅y))⋅ℯ "
      ]
     },
     "execution_count": 5,
     "metadata": {},
     "output_type": "execute_result"
    }
   ],
   "source": [
    "y = sp.Symbol('y')\n",
    "b = sp.Derivative(sp.sin(x*y)*sp.E**x,x,y)\n",
    "b.doit()"
   ]
  },
  {
   "cell_type": "code",
   "execution_count": 6,
   "metadata": {},
   "outputs": [],
   "source": [
    "izraz = (x**2 + 3*x + 1)/(x**3 + 2*x**2 + x)"
   ]
  },
  {
   "cell_type": "code",
   "execution_count": 7,
   "metadata": {},
   "outputs": [
    {
     "data": {
      "image/png": "[encoded data removed]",
      "text/latex": [
       "$$\\frac{x^{2} + 3 x + 1}{x^{3} + 2 x^{2} + x}$$"
      ],
      "text/plain": [
       "  2          \n",
       " x  + 3⋅x + 1\n",
       "─────────────\n",
       " 3      2    \n",
       "x  + 2⋅x  + x"
      ]
     },
     "execution_count": 7,
     "metadata": {},
     "output_type": "execute_result"
    }
   ],
   "source": [
    "izraz"
   ]
  },
  {
   "cell_type": "code",
   "execution_count": 8,
   "metadata": {},
   "outputs": [
    {
     "data": {
      "text/plain": [
       "sympy.core.mul.Mul"
      ]
     },
     "execution_count": 8,
     "metadata": {},
     "output_type": "execute_result"
    }
   ],
   "source": [
    "type(izraz)"
   ]
  },
  {
   "cell_type": "code",
   "execution_count": 9,
   "metadata": {},
   "outputs": [
    {
     "data": {
      "image/png": "[encoded data removed]",
      "text/latex": [
       "$$\\frac{1}{x^{2} + 2 x + 1} + \\frac{1}{x}$$"
      ],
      "text/plain": [
       "     1         1\n",
       "──────────── + ─\n",
       " 2             x\n",
       "x  + 2⋅x + 1    "
      ]
     },
     "execution_count": 9,
     "metadata": {},
     "output_type": "execute_result"
    }
   ],
   "source": [
    "1/(x**2 + 2*x + 1) + 1/x"
   ]
  },
  {
   "cell_type": "code",
   "execution_count": 10,
   "metadata": {},
   "outputs": [
    {
     "data": {
      "image/png": "[encoded data removed]",
      "text/latex": [
       "$$\\frac{1}{x^{2} + 2 x + 1} + \\frac{1}{x}$$"
      ],
      "text/plain": [
       "     1         1\n",
       "──────────── + ─\n",
       " 2             x\n",
       "x  + 2⋅x + 1    "
      ]
     },
     "execution_count": 10,
     "metadata": {},
     "output_type": "execute_result"
    }
   ],
   "source": [
    "izraz.apart().expand()"
   ]
  },
  {
   "cell_type": "code",
   "execution_count": 11,
   "metadata": {},
   "outputs": [],
   "source": [
    "a,b,c = sp.symbols('a b c', real=True)"
   ]
  },
  {
   "cell_type": "code",
   "execution_count": 12,
   "metadata": {},
   "outputs": [
    {
     "data": {
      "image/png": "[encoded data removed]",
      "text/latex": [
       "$$\\left ( \\left(a^{b}\\right)^{c}, \\quad a^{b c}\\right )$$"
      ],
      "text/plain": [
       "⎛    c      ⎞\n",
       "⎜⎛ b⎞    b⋅c⎟\n",
       "⎝⎝a ⎠ , a   ⎠"
      ]
     },
     "execution_count": 12,
     "metadata": {},
     "output_type": "execute_result"
    }
   ],
   "source": [
    "(a**b)**c, a**(b*c)\n",
    "\n"
   ]
  },
  {
   "cell_type": "code",
   "execution_count": 13,
   "metadata": {},
   "outputs": [
    {
     "data": {
      "image/png": "[encoded data removed]",
      "text/latex": [
       "$$a^{b c}$$"
      ],
      "text/plain": [
       " b⋅c\n",
       "a   "
      ]
     },
     "execution_count": 13,
     "metadata": {},
     "output_type": "execute_result"
    }
   ],
   "source": [
    "izraz2 = (a**b)**c\n",
    "sp.powdenest(izraz2, force=True)"
   ]
  },
  {
   "cell_type": "code",
   "execution_count": 14,
   "metadata": {},
   "outputs": [],
   "source": [
    "def rjesenje(jednadžba):\n",
    "    c = jednadžba.coeff(x,0)\n",
    "    b = jednadžba.coeff(x,1)\n",
    "    a = jednadžba.coeff(x,2)\n",
    "    return (-b+sp.sqrt(b**2-4*a*c))/(2*a), (-b-sp.sqrt(b**2-4*a*c))/(2*a)\n",
    "    "
   ]
  },
  {
   "cell_type": "code",
   "execution_count": 15,
   "metadata": {},
   "outputs": [],
   "source": [
    "jednadžba = x**2 +1 + 4*x"
   ]
  },
  {
   "cell_type": "code",
   "execution_count": 16,
   "metadata": {},
   "outputs": [
    {
     "data": {
      "image/png": "[encoded data removed]",
      "text/latex": [
       "$$\\left ( -2 + \\sqrt{3}, \\quad -2 - \\sqrt{3}\\right )$$"
      ],
      "text/plain": [
       "(-2 + √3, -2 - √3)"
      ]
     },
     "execution_count": 16,
     "metadata": {},
     "output_type": "execute_result"
    }
   ],
   "source": [
    "rjesenje(jednadžba)"
   ]
  },
  {
   "cell_type": "markdown",
   "metadata": {},
   "source": [
    "Napišite funkciju koja za ulazne parametre prima funkciju (danu simboličkim izrazom) te točku (tj. broj) a crta danu funkciju i njenu tangentu u danoj točki. Učinite funkciju interaktivnom na način da se može birati funkcija (upisivanjem u polje) te točka (klizačem)."
   ]
  },
  {
   "cell_type": "code",
   "execution_count": 19,
   "metadata": {},
   "outputs": [],
   "source": [
    "import numpy as np\n",
    "def crtaj(f, x0):\n",
    "    f=sp.sympify(f)\n",
    "    der = sp.Derivative(f, x).doit()\n",
    "    izraz = f.n(10, subs={x:x0})\n",
    "    tangenta = der.n(10, subs={x:x0})*(sp.Symbol('x')-x0)+izraz\n",
    "    sp.plot(f, tangenta)"
   ]
  },
  {
   "cell_type": "code",
   "execution_count": 20,
   "metadata": {
    "scrolled": true
   },
   "outputs": [
    {
     "data": {
      "text/plain": [
       "<matplotlib.figure.Figure at 0x117d020f0>"
      ]
     },
     "metadata": {},
     "output_type": "display_data"
    }
   ],
   "source": [
    "crtaj(x**2,2)"
   ]
  },
  {
   "cell_type": "code",
   "execution_count": 23,
   "metadata": {},
   "outputs": [
    {
     "data": {
      "application/vnd.jupyter.widget-view+json": {
       "model_id": "b912d7993d0d40b39a04f9ea23dd2ee1",
       "version_major": 2,
       "version_minor": 0
      },
      "text/html": [
       "<p>Failed to display Jupyter Widget of type <code>interactive</code>.</p>\n",
       "<p>\n",
       "  If you're reading this message in the Jupyter Notebook or JupyterLab Notebook, it may mean\n",
       "  that the widgets JavaScript is still loading. If this message persists, it\n",
       "  likely means that the widgets JavaScript library is either not installed or\n",
       "  not enabled. See the <a href=\"https://ipywidgets.readthedocs.io/en/stable/user_install.html\">Jupyter\n",
       "  Widgets Documentation</a> for setup instructions.\n",
       "</p>\n",
       "<p>\n",
       "  If you're reading this message in another frontend (for example, a static\n",
       "  rendering on GitHub or <a href=\"https://nbviewer.jupyter.org/\">NBViewer</a>),\n",
       "  it may mean that your frontend doesn't currently support widgets.\n",
       "</p>\n"
      ],
      "text/plain": [
       "interactive(children=(Text(value='Hi there!', description='f'), IntSlider(value=0, description='x0', max=10, min=-10), Output()), _dom_classes=('widget-interact',))"
      ]
     },
     "metadata": {},
     "output_type": "display_data"
    }
   ],
   "source": [
    "from ipywidgets import interact, interactive, fixed, interact_manual\n",
    "import ipywidgets\n",
    "interact(crtaj, x0=(-10,10), f='Hi there!');"
   ]
  },
  {
   "cell_type": "code",
   "execution_count": null,
   "metadata": {},
   "outputs": [],
   "source": []
  },
  {
   "cell_type": "code",
   "execution_count": null,
   "metadata": {},
   "outputs": [],
   "source": []
  }
 ],
 "metadata": {
  "kernelspec": {
   "display_name": "Python 3",
   "language": "python",
   "name": "python3"
  },
  "language_info": {
   "codemirror_mode": {
    "name": "ipython",
    "version": 3
   },
   "file_extension": ".py",
   "mimetype": "text/x-python",
   "name": "python",
   "nbconvert_exporter": "python",
   "pygments_lexer": "ipython3",
   "version": "3.6.4"
  }
 },
 "nbformat": 4,
 "nbformat_minor": 2
}
