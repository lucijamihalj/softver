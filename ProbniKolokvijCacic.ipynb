{
 "cells": [
  {
   "cell_type": "markdown",
   "metadata": {},
   "source": [
    "# Zadatak 1"
   ]
  },
  {
   "cell_type": "code",
   "execution_count": 1,
   "metadata": {},
   "outputs": [
    {
     "data": {
      "text/plain": [
       "[2]"
      ]
     },
     "execution_count": 1,
     "metadata": {},
     "output_type": "execute_result"
    }
   ],
   "source": [
    "mojalista = [2]\n",
    "list.__add__(mojalista, [3])\n",
    "mojalista"
   ]
  },
  {
   "cell_type": "code",
   "execution_count": 2,
   "metadata": {},
   "outputs": [
    {
     "data": {
      "text/plain": [
       "([2], [2, 3])"
      ]
     },
     "execution_count": 2,
     "metadata": {},
     "output_type": "execute_result"
    }
   ],
   "source": [
    "mojalista = [2]\n",
    "lista = list.__add__(mojalista, [3])\n",
    "mojalista, lista"
   ]
  },
  {
   "cell_type": "markdown",
   "metadata": {},
   "source": [
    "# Zadatak 2"
   ]
  },
  {
   "cell_type": "markdown",
   "metadata": {},
   "source": [
    "Za najkasniji (datumi su u prvom stupcu) redak koji u predzadnjem stupcu ima girl a u zadnjem yellow, nađite umnožak drugog i trećeg stupca."
   ]
  },
  {
   "cell_type": "code",
   "execution_count": 70,
   "metadata": {},
   "outputs": [],
   "source": [
    "import pandas as pd\n",
    "file = pd.read_csv('pdzad.csv', sep='\\t', names=['datum', 'prvi', 'drugi', 'spol', 'boja'])"
   ]
  },
  {
   "cell_type": "code",
   "execution_count": 71,
   "metadata": {},
   "outputs": [
    {
     "data": {
      "text/html": [
       "<div>\n",
       "<style scoped>\n",
       "    .dataframe tbody tr th:only-of-type {\n",
       "        vertical-align: middle;\n",
       "    }\n",
       "\n",
       "    .dataframe tbody tr th {\n",
       "        vertical-align: top;\n",
       "    }\n",
       "\n",
       "    .dataframe thead th {\n",
       "        text-align: right;\n",
       "    }\n",
       "</style>\n",
       "<table border=\"1\" class=\"dataframe\">\n",
       "  <thead>\n",
       "    <tr style=\"text-align: right;\">\n",
       "      <th></th>\n",
       "      <th>datum</th>\n",
       "      <th>prvi</th>\n",
       "      <th>drugi</th>\n",
       "      <th>spol</th>\n",
       "      <th>boja</th>\n",
       "    </tr>\n",
       "  </thead>\n",
       "  <tbody>\n",
       "    <tr>\n",
       "      <th>0</th>\n",
       "      <td>2016-07-17</td>\n",
       "      <td>450</td>\n",
       "      <td>628.578622</td>\n",
       "      <td>girl</td>\n",
       "      <td>red</td>\n",
       "    </tr>\n",
       "    <tr>\n",
       "      <th>1</th>\n",
       "      <td>2014-02-17</td>\n",
       "      <td>418</td>\n",
       "      <td>226.950670</td>\n",
       "      <td>boy</td>\n",
       "      <td>red</td>\n",
       "    </tr>\n",
       "    <tr>\n",
       "      <th>2</th>\n",
       "      <td>2016-03-03</td>\n",
       "      <td>418</td>\n",
       "      <td>208.042709</td>\n",
       "      <td>girl</td>\n",
       "      <td>red</td>\n",
       "    </tr>\n",
       "    <tr>\n",
       "      <th>3</th>\n",
       "      <td>2014-04-28</td>\n",
       "      <td>26</td>\n",
       "      <td>915.238500</td>\n",
       "      <td>boy</td>\n",
       "      <td>blue</td>\n",
       "    </tr>\n",
       "    <tr>\n",
       "      <th>4</th>\n",
       "      <td>2014-09-07</td>\n",
       "      <td>182</td>\n",
       "      <td>744.946901</td>\n",
       "      <td>boy</td>\n",
       "      <td>green</td>\n",
       "    </tr>\n",
       "  </tbody>\n",
       "</table>\n",
       "</div>"
      ],
      "text/plain": [
       "        datum  prvi       drugi  spol   boja\n",
       "0  2016-07-17   450  628.578622  girl    red\n",
       "1  2014-02-17   418  226.950670   boy    red\n",
       "2  2016-03-03   418  208.042709  girl    red\n",
       "3  2014-04-28    26  915.238500   boy   blue\n",
       "4  2014-09-07   182  744.946901   boy  green"
      ]
     },
     "execution_count": 71,
     "metadata": {},
     "output_type": "execute_result"
    }
   ],
   "source": [
    "file.head()"
   ]
  },
  {
   "cell_type": "code",
   "execution_count": 72,
   "metadata": {},
   "outputs": [],
   "source": [
    "file = file.set_index(['datum'])"
   ]
  },
  {
   "cell_type": "code",
   "execution_count": 73,
   "metadata": {},
   "outputs": [
    {
     "data": {
      "text/plain": [
       "pandas.core.frame.DataFrame"
      ]
     },
     "execution_count": 73,
     "metadata": {},
     "output_type": "execute_result"
    }
   ],
   "source": [
    "type(file)"
   ]
  },
  {
   "cell_type": "code",
   "execution_count": 74,
   "metadata": {},
   "outputs": [
    {
     "data": {
      "text/html": [
       "<div>\n",
       "<style scoped>\n",
       "    .dataframe tbody tr th:only-of-type {\n",
       "        vertical-align: middle;\n",
       "    }\n",
       "\n",
       "    .dataframe tbody tr th {\n",
       "        vertical-align: top;\n",
       "    }\n",
       "\n",
       "    .dataframe thead th {\n",
       "        text-align: right;\n",
       "    }\n",
       "</style>\n",
       "<table border=\"1\" class=\"dataframe\">\n",
       "  <thead>\n",
       "    <tr style=\"text-align: right;\">\n",
       "      <th></th>\n",
       "      <th>prvi</th>\n",
       "      <th>drugi</th>\n",
       "      <th>spol</th>\n",
       "      <th>boja</th>\n",
       "    </tr>\n",
       "    <tr>\n",
       "      <th>datum</th>\n",
       "      <th></th>\n",
       "      <th></th>\n",
       "      <th></th>\n",
       "      <th></th>\n",
       "    </tr>\n",
       "  </thead>\n",
       "  <tbody>\n",
       "    <tr>\n",
       "      <th>2014-01-21</th>\n",
       "      <td>807</td>\n",
       "      <td>396.394572</td>\n",
       "      <td>boy</td>\n",
       "      <td>yellow</td>\n",
       "    </tr>\n",
       "    <tr>\n",
       "      <th>2014-02-17</th>\n",
       "      <td>418</td>\n",
       "      <td>226.950670</td>\n",
       "      <td>boy</td>\n",
       "      <td>red</td>\n",
       "    </tr>\n",
       "    <tr>\n",
       "      <th>2014-03-03</th>\n",
       "      <td>202</td>\n",
       "      <td>811.039542</td>\n",
       "      <td>boy</td>\n",
       "      <td>red</td>\n",
       "    </tr>\n",
       "    <tr>\n",
       "      <th>2014-03-14</th>\n",
       "      <td>528</td>\n",
       "      <td>114.734319</td>\n",
       "      <td>girl</td>\n",
       "      <td>red</td>\n",
       "    </tr>\n",
       "    <tr>\n",
       "      <th>2014-03-30</th>\n",
       "      <td>507</td>\n",
       "      <td>373.570850</td>\n",
       "      <td>girl</td>\n",
       "      <td>yellow</td>\n",
       "    </tr>\n",
       "    <tr>\n",
       "      <th>2014-04-02</th>\n",
       "      <td>456</td>\n",
       "      <td>4.716575</td>\n",
       "      <td>girl</td>\n",
       "      <td>green</td>\n",
       "    </tr>\n",
       "    <tr>\n",
       "      <th>2014-04-28</th>\n",
       "      <td>26</td>\n",
       "      <td>915.238500</td>\n",
       "      <td>boy</td>\n",
       "      <td>blue</td>\n",
       "    </tr>\n",
       "    <tr>\n",
       "      <th>2014-05-06</th>\n",
       "      <td>375</td>\n",
       "      <td>957.917383</td>\n",
       "      <td>girl</td>\n",
       "      <td>yellow</td>\n",
       "    </tr>\n",
       "    <tr>\n",
       "      <th>2014-05-19</th>\n",
       "      <td>740</td>\n",
       "      <td>988.004758</td>\n",
       "      <td>boy</td>\n",
       "      <td>yellow</td>\n",
       "    </tr>\n",
       "    <tr>\n",
       "      <th>2014-06-07</th>\n",
       "      <td>463</td>\n",
       "      <td>61.233638</td>\n",
       "      <td>boy</td>\n",
       "      <td>green</td>\n",
       "    </tr>\n",
       "    <tr>\n",
       "      <th>2014-07-08</th>\n",
       "      <td>672</td>\n",
       "      <td>302.847557</td>\n",
       "      <td>boy</td>\n",
       "      <td>yellow</td>\n",
       "    </tr>\n",
       "    <tr>\n",
       "      <th>2014-07-15</th>\n",
       "      <td>26</td>\n",
       "      <td>451.519075</td>\n",
       "      <td>girl</td>\n",
       "      <td>blue</td>\n",
       "    </tr>\n",
       "    <tr>\n",
       "      <th>2014-07-21</th>\n",
       "      <td>345</td>\n",
       "      <td>542.665316</td>\n",
       "      <td>girl</td>\n",
       "      <td>blue</td>\n",
       "    </tr>\n",
       "    <tr>\n",
       "      <th>2014-08-18</th>\n",
       "      <td>390</td>\n",
       "      <td>527.061301</td>\n",
       "      <td>boy</td>\n",
       "      <td>yellow</td>\n",
       "    </tr>\n",
       "    <tr>\n",
       "      <th>2014-09-07</th>\n",
       "      <td>182</td>\n",
       "      <td>744.946901</td>\n",
       "      <td>boy</td>\n",
       "      <td>green</td>\n",
       "    </tr>\n",
       "    <tr>\n",
       "      <th>2014-10-11</th>\n",
       "      <td>792</td>\n",
       "      <td>585.769718</td>\n",
       "      <td>girl</td>\n",
       "      <td>purple</td>\n",
       "    </tr>\n",
       "    <tr>\n",
       "      <th>2014-12-27</th>\n",
       "      <td>100</td>\n",
       "      <td>41.486492</td>\n",
       "      <td>girl</td>\n",
       "      <td>purple</td>\n",
       "    </tr>\n",
       "    <tr>\n",
       "      <th>2015-01-07</th>\n",
       "      <td>254</td>\n",
       "      <td>512.529009</td>\n",
       "      <td>girl</td>\n",
       "      <td>blue</td>\n",
       "    </tr>\n",
       "    <tr>\n",
       "      <th>2015-01-12</th>\n",
       "      <td>591</td>\n",
       "      <td>978.913511</td>\n",
       "      <td>boy</td>\n",
       "      <td>blue</td>\n",
       "    </tr>\n",
       "    <tr>\n",
       "      <th>2015-01-28</th>\n",
       "      <td>71</td>\n",
       "      <td>309.760628</td>\n",
       "      <td>boy</td>\n",
       "      <td>blue</td>\n",
       "    </tr>\n",
       "    <tr>\n",
       "      <th>2015-03-18</th>\n",
       "      <td>718</td>\n",
       "      <td>919.344036</td>\n",
       "      <td>girl</td>\n",
       "      <td>yellow</td>\n",
       "    </tr>\n",
       "    <tr>\n",
       "      <th>2015-03-27</th>\n",
       "      <td>78</td>\n",
       "      <td>635.718898</td>\n",
       "      <td>girl</td>\n",
       "      <td>purple</td>\n",
       "    </tr>\n",
       "    <tr>\n",
       "      <th>2015-04-15</th>\n",
       "      <td>209</td>\n",
       "      <td>827.094101</td>\n",
       "      <td>boy</td>\n",
       "      <td>yellow</td>\n",
       "    </tr>\n",
       "    <tr>\n",
       "      <th>2015-04-26</th>\n",
       "      <td>792</td>\n",
       "      <td>623.799887</td>\n",
       "      <td>boy</td>\n",
       "      <td>red</td>\n",
       "    </tr>\n",
       "    <tr>\n",
       "      <th>2015-06-08</th>\n",
       "      <td>207</td>\n",
       "      <td>731.211508</td>\n",
       "      <td>boy</td>\n",
       "      <td>yellow</td>\n",
       "    </tr>\n",
       "    <tr>\n",
       "      <th>2015-07-07</th>\n",
       "      <td>44</td>\n",
       "      <td>616.078044</td>\n",
       "      <td>girl</td>\n",
       "      <td>blue</td>\n",
       "    </tr>\n",
       "    <tr>\n",
       "      <th>2015-07-10</th>\n",
       "      <td>552</td>\n",
       "      <td>517.586297</td>\n",
       "      <td>boy</td>\n",
       "      <td>red</td>\n",
       "    </tr>\n",
       "    <tr>\n",
       "      <th>2015-08-23</th>\n",
       "      <td>938</td>\n",
       "      <td>927.630485</td>\n",
       "      <td>boy</td>\n",
       "      <td>yellow</td>\n",
       "    </tr>\n",
       "    <tr>\n",
       "      <th>2015-09-01</th>\n",
       "      <td>2</td>\n",
       "      <td>703.001673</td>\n",
       "      <td>girl</td>\n",
       "      <td>yellow</td>\n",
       "    </tr>\n",
       "    <tr>\n",
       "      <th>2015-09-15</th>\n",
       "      <td>166</td>\n",
       "      <td>190.032588</td>\n",
       "      <td>boy</td>\n",
       "      <td>red</td>\n",
       "    </tr>\n",
       "    <tr>\n",
       "      <th>2015-09-27</th>\n",
       "      <td>14</td>\n",
       "      <td>40.380074</td>\n",
       "      <td>girl</td>\n",
       "      <td>blue</td>\n",
       "    </tr>\n",
       "    <tr>\n",
       "      <th>2015-09-29</th>\n",
       "      <td>75</td>\n",
       "      <td>414.686734</td>\n",
       "      <td>boy</td>\n",
       "      <td>purple</td>\n",
       "    </tr>\n",
       "    <tr>\n",
       "      <th>2015-10-09</th>\n",
       "      <td>211</td>\n",
       "      <td>715.706315</td>\n",
       "      <td>boy</td>\n",
       "      <td>red</td>\n",
       "    </tr>\n",
       "    <tr>\n",
       "      <th>2015-10-21</th>\n",
       "      <td>571</td>\n",
       "      <td>259.954915</td>\n",
       "      <td>girl</td>\n",
       "      <td>green</td>\n",
       "    </tr>\n",
       "    <tr>\n",
       "      <th>2015-12-20</th>\n",
       "      <td>584</td>\n",
       "      <td>577.939367</td>\n",
       "      <td>boy</td>\n",
       "      <td>blue</td>\n",
       "    </tr>\n",
       "    <tr>\n",
       "      <th>2016-01-16</th>\n",
       "      <td>925</td>\n",
       "      <td>971.141551</td>\n",
       "      <td>boy</td>\n",
       "      <td>red</td>\n",
       "    </tr>\n",
       "    <tr>\n",
       "      <th>2016-01-23</th>\n",
       "      <td>312</td>\n",
       "      <td>884.018403</td>\n",
       "      <td>girl</td>\n",
       "      <td>blue</td>\n",
       "    </tr>\n",
       "    <tr>\n",
       "      <th>2016-01-23</th>\n",
       "      <td>36</td>\n",
       "      <td>792.745992</td>\n",
       "      <td>boy</td>\n",
       "      <td>blue</td>\n",
       "    </tr>\n",
       "    <tr>\n",
       "      <th>2016-01-26</th>\n",
       "      <td>783</td>\n",
       "      <td>819.096804</td>\n",
       "      <td>boy</td>\n",
       "      <td>blue</td>\n",
       "    </tr>\n",
       "    <tr>\n",
       "      <th>2016-03-03</th>\n",
       "      <td>418</td>\n",
       "      <td>208.042709</td>\n",
       "      <td>girl</td>\n",
       "      <td>red</td>\n",
       "    </tr>\n",
       "    <tr>\n",
       "      <th>2016-03-08</th>\n",
       "      <td>300</td>\n",
       "      <td>925.708079</td>\n",
       "      <td>boy</td>\n",
       "      <td>green</td>\n",
       "    </tr>\n",
       "    <tr>\n",
       "      <th>2016-03-27</th>\n",
       "      <td>325</td>\n",
       "      <td>444.532115</td>\n",
       "      <td>boy</td>\n",
       "      <td>purple</td>\n",
       "    </tr>\n",
       "    <tr>\n",
       "      <th>2016-04-17</th>\n",
       "      <td>683</td>\n",
       "      <td>138.001860</td>\n",
       "      <td>girl</td>\n",
       "      <td>red</td>\n",
       "    </tr>\n",
       "    <tr>\n",
       "      <th>2016-04-26</th>\n",
       "      <td>667</td>\n",
       "      <td>187.608667</td>\n",
       "      <td>boy</td>\n",
       "      <td>red</td>\n",
       "    </tr>\n",
       "    <tr>\n",
       "      <th>2016-05-15</th>\n",
       "      <td>116</td>\n",
       "      <td>969.555910</td>\n",
       "      <td>boy</td>\n",
       "      <td>red</td>\n",
       "    </tr>\n",
       "    <tr>\n",
       "      <th>2016-06-02</th>\n",
       "      <td>518</td>\n",
       "      <td>256.335606</td>\n",
       "      <td>boy</td>\n",
       "      <td>yellow</td>\n",
       "    </tr>\n",
       "    <tr>\n",
       "      <th>2016-06-09</th>\n",
       "      <td>530</td>\n",
       "      <td>205.990431</td>\n",
       "      <td>girl</td>\n",
       "      <td>purple</td>\n",
       "    </tr>\n",
       "    <tr>\n",
       "      <th>2016-06-23</th>\n",
       "      <td>317</td>\n",
       "      <td>223.288738</td>\n",
       "      <td>boy</td>\n",
       "      <td>green</td>\n",
       "    </tr>\n",
       "    <tr>\n",
       "      <th>2016-07-17</th>\n",
       "      <td>450</td>\n",
       "      <td>628.578622</td>\n",
       "      <td>girl</td>\n",
       "      <td>red</td>\n",
       "    </tr>\n",
       "    <tr>\n",
       "      <th>2016-09-06</th>\n",
       "      <td>294</td>\n",
       "      <td>682.120222</td>\n",
       "      <td>girl</td>\n",
       "      <td>blue</td>\n",
       "    </tr>\n",
       "  </tbody>\n",
       "</table>\n",
       "</div>"
      ],
      "text/plain": [
       "            prvi       drugi  spol    boja\n",
       "datum                                     \n",
       "2014-01-21   807  396.394572   boy  yellow\n",
       "2014-02-17   418  226.950670   boy     red\n",
       "2014-03-03   202  811.039542   boy     red\n",
       "2014-03-14   528  114.734319  girl     red\n",
       "2014-03-30   507  373.570850  girl  yellow\n",
       "2014-04-02   456    4.716575  girl   green\n",
       "2014-04-28    26  915.238500   boy    blue\n",
       "2014-05-06   375  957.917383  girl  yellow\n",
       "2014-05-19   740  988.004758   boy  yellow\n",
       "2014-06-07   463   61.233638   boy   green\n",
       "2014-07-08   672  302.847557   boy  yellow\n",
       "2014-07-15    26  451.519075  girl    blue\n",
       "2014-07-21   345  542.665316  girl    blue\n",
       "2014-08-18   390  527.061301   boy  yellow\n",
       "2014-09-07   182  744.946901   boy   green\n",
       "2014-10-11   792  585.769718  girl  purple\n",
       "2014-12-27   100   41.486492  girl  purple\n",
       "2015-01-07   254  512.529009  girl    blue\n",
       "2015-01-12   591  978.913511   boy    blue\n",
       "2015-01-28    71  309.760628   boy    blue\n",
       "2015-03-18   718  919.344036  girl  yellow\n",
       "2015-03-27    78  635.718898  girl  purple\n",
       "2015-04-15   209  827.094101   boy  yellow\n",
       "2015-04-26   792  623.799887   boy     red\n",
       "2015-06-08   207  731.211508   boy  yellow\n",
       "2015-07-07    44  616.078044  girl    blue\n",
       "2015-07-10   552  517.586297   boy     red\n",
       "2015-08-23   938  927.630485   boy  yellow\n",
       "2015-09-01     2  703.001673  girl  yellow\n",
       "2015-09-15   166  190.032588   boy     red\n",
       "2015-09-27    14   40.380074  girl    blue\n",
       "2015-09-29    75  414.686734   boy  purple\n",
       "2015-10-09   211  715.706315   boy     red\n",
       "2015-10-21   571  259.954915  girl   green\n",
       "2015-12-20   584  577.939367   boy    blue\n",
       "2016-01-16   925  971.141551   boy     red\n",
       "2016-01-23   312  884.018403  girl    blue\n",
       "2016-01-23    36  792.745992   boy    blue\n",
       "2016-01-26   783  819.096804   boy    blue\n",
       "2016-03-03   418  208.042709  girl     red\n",
       "2016-03-08   300  925.708079   boy   green\n",
       "2016-03-27   325  444.532115   boy  purple\n",
       "2016-04-17   683  138.001860  girl     red\n",
       "2016-04-26   667  187.608667   boy     red\n",
       "2016-05-15   116  969.555910   boy     red\n",
       "2016-06-02   518  256.335606   boy  yellow\n",
       "2016-06-09   530  205.990431  girl  purple\n",
       "2016-06-23   317  223.288738   boy   green\n",
       "2016-07-17   450  628.578622  girl     red\n",
       "2016-09-06   294  682.120222  girl    blue"
      ]
     },
     "execution_count": 74,
     "metadata": {},
     "output_type": "execute_result"
    }
   ],
   "source": [
    "file.sort_index()"
   ]
  },
  {
   "cell_type": "code",
   "execution_count": 65,
   "metadata": {},
   "outputs": [
    {
     "ename": "AttributeError",
     "evalue": "'function' object has no attribute 'head'",
     "output_type": "error",
     "traceback": [
      "\u001b[0;31m---------------------------------------------------------------------------\u001b[0m",
      "\u001b[0;31mAttributeError\u001b[0m                            Traceback (most recent call last)",
      "\u001b[0;32m<ipython-input-65-2df2d0ba5aac>\u001b[0m in \u001b[0;36m<module>\u001b[0;34m()\u001b[0m\n\u001b[0;32m----> 1\u001b[0;31m \u001b[0mfile\u001b[0m\u001b[0;34m.\u001b[0m\u001b[0mhead\u001b[0m\u001b[0;34m(\u001b[0m\u001b[0;34m)\u001b[0m\u001b[0;34m\u001b[0m\u001b[0m\n\u001b[0m",
      "\u001b[0;31mAttributeError\u001b[0m: 'function' object has no attribute 'head'"
     ]
    }
   ],
   "source": [
    "file.head()"
   ]
  },
  {
   "cell_type": "code",
   "execution_count": 45,
   "metadata": {},
   "outputs": [],
   "source": [
    "df = file[(file['spol']=='girl') & (file['boja']=='yellow')]"
   ]
  },
  {
   "cell_type": "code",
   "execution_count": 75,
   "metadata": {},
   "outputs": [
    {
     "data": {
      "text/html": [
       "<div>\n",
       "<style scoped>\n",
       "    .dataframe tbody tr th:only-of-type {\n",
       "        vertical-align: middle;\n",
       "    }\n",
       "\n",
       "    .dataframe tbody tr th {\n",
       "        vertical-align: top;\n",
       "    }\n",
       "\n",
       "    .dataframe thead th {\n",
       "        text-align: right;\n",
       "    }\n",
       "</style>\n",
       "<table border=\"1\" class=\"dataframe\">\n",
       "  <thead>\n",
       "    <tr style=\"text-align: right;\">\n",
       "      <th></th>\n",
       "      <th>prvi</th>\n",
       "      <th>drugi</th>\n",
       "      <th>spol</th>\n",
       "      <th>boja</th>\n",
       "    </tr>\n",
       "    <tr>\n",
       "      <th>datum</th>\n",
       "      <th></th>\n",
       "      <th></th>\n",
       "      <th></th>\n",
       "      <th></th>\n",
       "    </tr>\n",
       "  </thead>\n",
       "  <tbody>\n",
       "    <tr>\n",
       "      <th>2014-03-30</th>\n",
       "      <td>507</td>\n",
       "      <td>373.570850</td>\n",
       "      <td>girl</td>\n",
       "      <td>yellow</td>\n",
       "    </tr>\n",
       "    <tr>\n",
       "      <th>2014-05-06</th>\n",
       "      <td>375</td>\n",
       "      <td>957.917383</td>\n",
       "      <td>girl</td>\n",
       "      <td>yellow</td>\n",
       "    </tr>\n",
       "    <tr>\n",
       "      <th>2015-03-18</th>\n",
       "      <td>718</td>\n",
       "      <td>919.344036</td>\n",
       "      <td>girl</td>\n",
       "      <td>yellow</td>\n",
       "    </tr>\n",
       "    <tr>\n",
       "      <th>2015-09-01</th>\n",
       "      <td>2</td>\n",
       "      <td>703.001673</td>\n",
       "      <td>girl</td>\n",
       "      <td>yellow</td>\n",
       "    </tr>\n",
       "  </tbody>\n",
       "</table>\n",
       "</div>"
      ],
      "text/plain": [
       "            prvi       drugi  spol    boja\n",
       "datum                                     \n",
       "2014-03-30   507  373.570850  girl  yellow\n",
       "2014-05-06   375  957.917383  girl  yellow\n",
       "2015-03-18   718  919.344036  girl  yellow\n",
       "2015-09-01     2  703.001673  girl  yellow"
      ]
     },
     "execution_count": 75,
     "metadata": {},
     "output_type": "execute_result"
    }
   ],
   "source": [
    "df.sort_index()"
   ]
  },
  {
   "cell_type": "code",
   "execution_count": 47,
   "metadata": {},
   "outputs": [],
   "source": [
    "rezultat = df.loc[df.index.max()]\n"
   ]
  },
  {
   "cell_type": "code",
   "execution_count": 48,
   "metadata": {},
   "outputs": [
    {
     "data": {
      "text/plain": [
       "prvi           2\n",
       "drugi    703.002\n",
       "spol        girl\n",
       "boja      yellow\n",
       "Name: 2015-09-01, dtype: object"
      ]
     },
     "execution_count": 48,
     "metadata": {},
     "output_type": "execute_result"
    }
   ],
   "source": [
    "rezultat"
   ]
  },
  {
   "cell_type": "code",
   "execution_count": 50,
   "metadata": {},
   "outputs": [
    {
     "data": {
      "text/plain": [
       "1406.0033460000002"
      ]
     },
     "execution_count": 50,
     "metadata": {},
     "output_type": "execute_result"
    }
   ],
   "source": [
    "rezultat[0]*rezultat[1]"
   ]
  },
  {
   "cell_type": "markdown",
   "metadata": {},
   "source": [
    "# Zadatak 4"
   ]
  },
  {
   "cell_type": "code",
   "execution_count": 76,
   "metadata": {},
   "outputs": [],
   "source": [
    "import matplotlib.pyplot as plt"
   ]
  },
  {
   "cell_type": "code",
   "execution_count": 80,
   "metadata": {},
   "outputs": [],
   "source": [
    "import numpy as np"
   ]
  },
  {
   "cell_type": "code",
   "execution_count": 89,
   "metadata": {},
   "outputs": [],
   "source": [
    "%matplotlib inline"
   ]
  },
  {
   "cell_type": "code",
   "execution_count": 81,
   "metadata": {},
   "outputs": [],
   "source": []
  },
  {
   "cell_type": "code",
   "execution_count": 90,
   "metadata": {},
   "outputs": [
    {
     "data": {
      "text/plain": [
       "[<matplotlib.lines.Line2D at 0x10b996748>]"
      ]
     },
     "execution_count": 90,
     "metadata": {},
     "output_type": "execute_result"
    },
    {
     "data": {
      "image/png": "[encoded data removed]",
      "text/plain": [
       "<matplotlib.figure.Figure at 0x10b996f60>"
      ]
     },
     "metadata": {},
     "output_type": "display_data"
    }
   ],
   "source": [
    "theta = np.linspace(0,2*np.pi)[1:]\n",
    "plt.polar(theta, np.abs(np.sin(theta)))\n",
    "plt.polar(theta, np.log(1+theta))"
   ]
  },
  {
   "cell_type": "markdown",
   "metadata": {},
   "source": [
    "# Zadatak 5"
   ]
  },
  {
   "cell_type": "markdown",
   "metadata": {},
   "source": [
    "\n",
    "Napišite funkciju koja prima simboličku funkciju, integrira je simbolički po varijabli x (ako može), dobiveni rezultat derivira simbolički i uspoređuje s originalnim ulazom. Na kraju treba ispisati jednadžbe koje proizlaze iz integriranja odnosno deriviranja."
   ]
  },
  {
   "cell_type": "code",
   "execution_count": 106,
   "metadata": {},
   "outputs": [],
   "source": [
    "import sympy as sp\n",
    "sp.init_printing()\n",
    "x = sp.Symbol('x')\n",
    "from IPython.display import display"
   ]
  },
  {
   "cell_type": "code",
   "execution_count": 124,
   "metadata": {},
   "outputs": [],
   "source": [
    "def provjeri_integral(fja):\n",
    "    integral = sp.Integral(fja, x)\n",
    "    rez1 = integral.doit()\n",
    "    prva = sp.Eq(integral, rez1, evaluate=False)\n",
    "    derivacija = sp.Derivative(rez1,x)\n",
    "    rez2 = derivacija.doit()\n",
    "    druga = sp.Eq(derivacija, rez2, evaluate=False)\n",
    "    if (fja == rez2):\n",
    "        print('Dobro je')\n",
    "    else: \n",
    "        print ('Nije dobro')\n",
    "    display(prva)\n",
    "    display(druga)"
   ]
  },
  {
   "cell_type": "code",
   "execution_count": 125,
   "metadata": {},
   "outputs": [
    {
     "name": "stdout",
     "output_type": "stream",
     "text": [
      "Nije dobro\n"
     ]
    },
    {
     "data": {
      "image/png": "[encoded data removed]",
      "text/latex": [
       "$$\\int x \\left(x + 1\\right)\\, dx = \\frac{x^{3}}{3} + \\frac{x^{2}}{2}$$"
      ],
      "text/plain": [
       "                  3    2\n",
       "⌠                x    x \n",
       "⎮ x⋅(x + 1) dx = ── + ──\n",
       "⌡                3    2 "
      ]
     },
     "metadata": {},
     "output_type": "display_data"
    },
    {
     "data": {
      "image/png": "[encoded data removed]",
      "text/latex": [
       "$$\\frac{d}{d x}\\left(\\frac{x^{3}}{3} + \\frac{x^{2}}{2}\\right) = x^{2} + x$$"
      ],
      "text/plain": [
       "  ⎛ 3    2⎞         \n",
       "d ⎜x    x ⎟    2    \n",
       "──⎜── + ──⎟ = x  + x\n",
       "dx⎝3    2 ⎠         "
      ]
     },
     "metadata": {},
     "output_type": "display_data"
    }
   ],
   "source": [
    "provjeri_integral(x*(x+1))"
   ]
  },
  {
   "cell_type": "code",
   "execution_count": 126,
   "metadata": {},
   "outputs": [
    {
     "name": "stdout",
     "output_type": "stream",
     "text": [
      "Dobro je\n"
     ]
    },
    {
     "data": {
      "image/png": "[encoded data removed]",
      "text/latex": [
       "$$\\int x^{2}\\, dx = \\frac{x^{3}}{3}$$"
      ],
      "text/plain": [
       "⌠          3\n",
       "⎮  2      x \n",
       "⎮ x  dx = ──\n",
       "⌡         3 "
      ]
     },
     "metadata": {},
     "output_type": "display_data"
    },
    {
     "data": {
      "image/png": "[encoded data removed]",
      "text/latex": [
       "$$\\frac{d}{d x}\\left(\\frac{x^{3}}{3}\\right) = x^{2}$$"
      ],
      "text/plain": [
       "  ⎛ 3⎞     \n",
       "d ⎜x ⎟    2\n",
       "──⎜──⎟ = x \n",
       "dx⎝3 ⎠     "
      ]
     },
     "metadata": {},
     "output_type": "display_data"
    }
   ],
   "source": [
    "provjeri_integral(x**2)"
   ]
  },
  {
   "cell_type": "code",
   "execution_count": 121,
   "metadata": {},
   "outputs": [
    {
     "name": "stdout",
     "output_type": "stream",
     "text": [
      "Nije dobro\n"
     ]
    },
    {
     "data": {
      "image/png": "[encoded data removed]",
      "text/latex": [
       "$$\\int \\sin{\\left (x \\right )}\\, dx = - \\cos{\\left (x \\right )}$$"
      ],
      "text/plain": [
       "⌠                    \n",
       "⎮ sin(x) dx = -cos(x)\n",
       "⌡                    "
      ]
     },
     "metadata": {},
     "output_type": "display_data"
    },
    {
     "data": {
      "image/png": "[encoded data removed]",
      "text/latex": [
       "$$\\frac{d}{d x}\\left(- \\cos{\\left (x \\right )}\\right) = \\sin{\\left (x \\right )}$$"
      ],
      "text/plain": [
       "d                   \n",
       "──(-cos(x)) = sin(x)\n",
       "dx                  "
      ]
     },
     "metadata": {},
     "output_type": "display_data"
    }
   ],
   "source": [
    "provjeri_integral(sp.sin(x))"
   ]
  },
  {
   "cell_type": "code",
   "execution_count": null,
   "metadata": {},
   "outputs": [],
   "source": []
  }
 ],
 "metadata": {
  "kernelspec": {
   "display_name": "Python 3",
   "language": "python",
   "name": "python3"
  },
  "language_info": {
   "codemirror_mode": {
    "name": "ipython",
    "version": 3
   },
   "file_extension": ".py",
   "mimetype": "text/x-python",
   "name": "python",
   "nbconvert_exporter": "python",
   "pygments_lexer": "ipython3",
   "version": "3.6.4"
  }
 },
 "nbformat": 4,
 "nbformat_minor": 2
}
